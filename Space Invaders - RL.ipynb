{
 "cells": [
  {
   "cell_type": "code",
   "execution_count": 9,
   "id": "bf340fd6",
   "metadata": {},
   "outputs": [
    {
     "name": "stdout",
     "output_type": "stream",
     "text": [
      "Requirement already satisfied: tensorflow==2.3.1 in c:\\users\\garima\\anaconda3\\lib\\site-packages (2.3.1)\n",
      "Requirement already satisfied: gym in c:\\users\\garima\\anaconda3\\lib\\site-packages (0.21.0)\n",
      "Requirement already satisfied: keras-rl2 in c:\\users\\garima\\anaconda3\\lib\\site-packages (1.0.5)\n",
      "Requirement already satisfied: protobuf>=3.9.2 in c:\\users\\garima\\anaconda3\\lib\\site-packages (from tensorflow==2.3.1) (3.18.1)\n",
      "Requirement already satisfied: opt-einsum>=2.3.2 in c:\\users\\garima\\anaconda3\\lib\\site-packages (from tensorflow==2.3.1) (3.3.0)\n",
      "Requirement already satisfied: tensorboard<3,>=2.3.0 in c:\\users\\garima\\anaconda3\\lib\\site-packages (from tensorflow==2.3.1) (2.7.0)\n",
      "Requirement already satisfied: termcolor>=1.1.0 in c:\\users\\garima\\anaconda3\\lib\\site-packages (from tensorflow==2.3.1) (1.1.0)\n",
      "Requirement already satisfied: grpcio>=1.8.6 in c:\\users\\garima\\anaconda3\\lib\\site-packages (from tensorflow==2.3.1) (1.41.0)\n",
      "Requirement already satisfied: h5py<2.11.0,>=2.10.0 in c:\\users\\garima\\anaconda3\\lib\\site-packages (from tensorflow==2.3.1) (2.10.0)\n",
      "Requirement already satisfied: tensorflow-estimator<2.4.0,>=2.3.0 in c:\\users\\garima\\anaconda3\\lib\\site-packages (from tensorflow==2.3.1) (2.3.0)\n",
      "Requirement already satisfied: six>=1.12.0 in c:\\users\\garima\\anaconda3\\lib\\site-packages (from tensorflow==2.3.1) (1.15.0)\n",
      "Requirement already satisfied: keras-preprocessing<1.2,>=1.1.1 in c:\\users\\garima\\anaconda3\\lib\\site-packages (from tensorflow==2.3.1) (1.1.2)\n",
      "Requirement already satisfied: wrapt>=1.11.1 in c:\\users\\garima\\anaconda3\\lib\\site-packages (from tensorflow==2.3.1) (1.12.1)\n",
      "Requirement already satisfied: wheel>=0.26 in c:\\users\\garima\\anaconda3\\lib\\site-packages (from tensorflow==2.3.1) (0.36.2)\n",
      "Requirement already satisfied: astunparse==1.6.3 in c:\\users\\garima\\anaconda3\\lib\\site-packages (from tensorflow==2.3.1) (1.6.3)\n",
      "Requirement already satisfied: gast==0.3.3 in c:\\users\\garima\\anaconda3\\lib\\site-packages (from tensorflow==2.3.1) (0.3.3)\n",
      "Requirement already satisfied: google-pasta>=0.1.8 in c:\\users\\garima\\anaconda3\\lib\\site-packages (from tensorflow==2.3.1) (0.2.0)\n",
      "Requirement already satisfied: numpy<1.19.0,>=1.16.0 in c:\\users\\garima\\anaconda3\\lib\\site-packages (from tensorflow==2.3.1) (1.18.5)\n",
      "Requirement already satisfied: absl-py>=0.7.0 in c:\\users\\garima\\anaconda3\\lib\\site-packages (from tensorflow==2.3.1) (0.14.1)\n",
      "Requirement already satisfied: markdown>=2.6.8 in c:\\users\\garima\\anaconda3\\lib\\site-packages (from tensorboard<3,>=2.3.0->tensorflow==2.3.1) (3.3.4)\n",
      "Requirement already satisfied: setuptools>=41.0.0 in c:\\users\\garima\\anaconda3\\lib\\site-packages (from tensorboard<3,>=2.3.0->tensorflow==2.3.1) (52.0.0.post20210125)\n",
      "Requirement already satisfied: tensorboard-plugin-wit>=1.6.0 in c:\\users\\garima\\anaconda3\\lib\\site-packages (from tensorboard<3,>=2.3.0->tensorflow==2.3.1) (1.8.0)\n",
      "Requirement already satisfied: google-auth<3,>=1.6.3 in c:\\users\\garima\\anaconda3\\lib\\site-packages (from tensorboard<3,>=2.3.0->tensorflow==2.3.1) (2.3.0)\n",
      "Requirement already satisfied: google-auth-oauthlib<0.5,>=0.4.1 in c:\\users\\garima\\anaconda3\\lib\\site-packages (from tensorboard<3,>=2.3.0->tensorflow==2.3.1) (0.4.6)\n",
      "Requirement already satisfied: tensorboard-data-server<0.7.0,>=0.6.0 in c:\\users\\garima\\anaconda3\\lib\\site-packages (from tensorboard<3,>=2.3.0->tensorflow==2.3.1) (0.6.1)\n",
      "Requirement already satisfied: werkzeug>=0.11.15 in c:\\users\\garima\\anaconda3\\lib\\site-packages (from tensorboard<3,>=2.3.0->tensorflow==2.3.1) (1.0.1)\n",
      "Requirement already satisfied: requests<3,>=2.21.0 in c:\\users\\garima\\anaconda3\\lib\\site-packages (from tensorboard<3,>=2.3.0->tensorflow==2.3.1) (2.25.1)\n",
      "Requirement already satisfied: cachetools<5.0,>=2.0.0 in c:\\users\\garima\\anaconda3\\lib\\site-packages (from google-auth<3,>=1.6.3->tensorboard<3,>=2.3.0->tensorflow==2.3.1) (4.2.4)\n",
      "Requirement already satisfied: rsa<5,>=3.1.4 in c:\\users\\garima\\anaconda3\\lib\\site-packages (from google-auth<3,>=1.6.3->tensorboard<3,>=2.3.0->tensorflow==2.3.1) (4.7.2)\n",
      "Requirement already satisfied: pyasn1-modules>=0.2.1 in c:\\users\\garima\\anaconda3\\lib\\site-packages (from google-auth<3,>=1.6.3->tensorboard<3,>=2.3.0->tensorflow==2.3.1) (0.2.8)\n",
      "Requirement already satisfied: requests-oauthlib>=0.7.0 in c:\\users\\garima\\anaconda3\\lib\\site-packages (from google-auth-oauthlib<0.5,>=0.4.1->tensorboard<3,>=2.3.0->tensorflow==2.3.1) (1.3.0)\n",
      "Requirement already satisfied: pyasn1<0.5.0,>=0.4.6 in c:\\users\\garima\\anaconda3\\lib\\site-packages (from pyasn1-modules>=0.2.1->google-auth<3,>=1.6.3->tensorboard<3,>=2.3.0->tensorflow==2.3.1) (0.4.8)\n",
      "Requirement already satisfied: idna<3,>=2.5 in c:\\users\\garima\\anaconda3\\lib\\site-packages (from requests<3,>=2.21.0->tensorboard<3,>=2.3.0->tensorflow==2.3.1) (2.10)\n",
      "Requirement already satisfied: chardet<5,>=3.0.2 in c:\\users\\garima\\anaconda3\\lib\\site-packages (from requests<3,>=2.21.0->tensorboard<3,>=2.3.0->tensorflow==2.3.1) (4.0.0)\n",
      "Requirement already satisfied: certifi>=2017.4.17 in c:\\users\\garima\\anaconda3\\lib\\site-packages (from requests<3,>=2.21.0->tensorboard<3,>=2.3.0->tensorflow==2.3.1) (2020.12.5)\n",
      "Requirement already satisfied: urllib3<1.27,>=1.21.1 in c:\\users\\garima\\anaconda3\\lib\\site-packages (from requests<3,>=2.21.0->tensorboard<3,>=2.3.0->tensorflow==2.3.1) (1.26.4)\n",
      "Requirement already satisfied: oauthlib>=3.0.0 in c:\\users\\garima\\anaconda3\\lib\\site-packages (from requests-oauthlib>=0.7.0->google-auth-oauthlib<0.5,>=0.4.1->tensorboard<3,>=2.3.0->tensorflow==2.3.1) (3.1.1)\n",
      "Requirement already satisfied: cloudpickle>=1.2.0 in c:\\users\\garima\\anaconda3\\lib\\site-packages (from gym) (1.6.0)\n"
     ]
    }
   ],
   "source": [
    "!pip install tensorflow==2.3.1 gym keras-rl2"
   ]
  },
  {
   "cell_type": "code",
   "execution_count": 10,
   "id": "412c9a54",
   "metadata": {},
   "outputs": [
    {
     "name": "stdout",
     "output_type": "stream",
     "text": [
      "Collecting git+https://github.com/Kojoley/atari-py.git\n",
      "  Cloning https://github.com/Kojoley/atari-py.git to c:\\users\\garima\\appdata\\local\\temp\\pip-req-build-22mf64af\n",
      "Requirement already satisfied: numpy in c:\\users\\garima\\anaconda3\\lib\\site-packages (from atari-py==1.2.2) (1.18.5)\n",
      "Note: you may need to restart the kernel to use updated packages.\n"
     ]
    },
    {
     "name": "stderr",
     "output_type": "stream",
     "text": [
      "  Running command git clone -q https://github.com/Kojoley/atari-py.git 'C:\\Users\\Garima\\AppData\\Local\\Temp\\pip-req-build-22mf64af'\n"
     ]
    }
   ],
   "source": [
    "pip install git+https://github.com/Kojoley/atari-py.git"
   ]
  },
  {
   "cell_type": "code",
   "execution_count": 11,
   "id": "254415f3",
   "metadata": {},
   "outputs": [
    {
     "name": "stdout",
     "output_type": "stream",
     "text": [
      "Requirement already satisfied: cmake in c:\\users\\garima\\anaconda3\\lib\\site-packages (3.21.3)\n",
      "Requirement already satisfied: atari-py in c:\\users\\garima\\anaconda3\\lib\\site-packages (1.2.2)\n",
      "Requirement already satisfied: numpy in c:\\users\\garima\\anaconda3\\lib\\site-packages (from atari-py) (1.18.5)\n",
      "Requirement already satisfied: gym[atari] in c:\\users\\garima\\anaconda3\\lib\\site-packages (0.21.0)\n",
      "Requirement already satisfied: numpy>=1.18.0 in c:\\users\\garima\\anaconda3\\lib\\site-packages (from gym[atari]) (1.18.5)\n",
      "Requirement already satisfied: cloudpickle>=1.2.0 in c:\\users\\garima\\anaconda3\\lib\\site-packages (from gym[atari]) (1.6.0)\n",
      "Requirement already satisfied: ale-py~=0.7.1 in c:\\users\\garima\\anaconda3\\lib\\site-packages (from gym[atari]) (0.7.2)\n",
      "Requirement already satisfied: importlib-resources in c:\\users\\garima\\anaconda3\\lib\\site-packages (from ale-py~=0.7.1->gym[atari]) (5.2.3)\n",
      "Requirement already satisfied: zipp>=3.1.0 in c:\\users\\garima\\anaconda3\\lib\\site-packages (from importlib-resources->ale-py~=0.7.1->gym[atari]) (3.4.1)\n"
     ]
    }
   ],
   "source": [
    "!pip install cmake\n",
    "!pip install atari-py\n",
    "!pip install gym[atari]"
   ]
  },
  {
   "cell_type": "code",
   "execution_count": 2,
   "id": "c5a21cb7",
   "metadata": {},
   "outputs": [
    {
     "name": "stdout",
     "output_type": "stream",
     "text": [
      "['adventure', 'air_raid', 'alien', 'amidar', 'assault', 'asterix', 'asteroids', 'atlantis', 'bank_heist', 'battle_zone', 'beam_rider', 'berzerk', 'bowling', 'boxing', 'breakout', 'carnival', 'centipede', 'chopper_command', 'crazy_climber', 'defender', 'demon_attack', 'double_dunk', 'elevator_action', 'enduro', 'fishing_derby', 'freeway', 'frostbite', 'gopher', 'gravitar', 'hero', 'ice_hockey', 'jamesbond', 'journey_escape', 'kaboom', 'kangaroo', 'krull', 'kung_fu_master', 'montezuma_revenge', 'ms_pacman', 'name_this_game', 'phoenix', 'pitfall', 'pong', 'pooyan', 'private_eye', 'qbert', 'riverraid', 'road_runner', 'robotank', 'seaquest', 'skiing', 'solaris', 'space_invaders', 'star_gunner', 'tennis', 'time_pilot', 'tutankham', 'up_n_down', 'venture', 'video_pinball', 'wizard_of_wor', 'yars_revenge', 'zaxxon']\n"
     ]
    }
   ],
   "source": [
    "import atari_py\n",
    "print(atari_py.list_games())"
   ]
  },
  {
   "cell_type": "code",
   "execution_count": 3,
   "id": "d6dbb5b9",
   "metadata": {},
   "outputs": [],
   "source": [
    "import gym\n",
    "import random"
   ]
  },
  {
   "cell_type": "code",
   "execution_count": 14,
   "id": "372b0654",
   "metadata": {},
   "outputs": [
    {
     "name": "stdout",
     "output_type": "stream",
     "text": [
      "Note: you may need to restart the kernel to use updated packages.\n",
      "Requirement already satisfied: gym[accept-rom-license,atari] in c:\\users\\garima\\anaconda3\\lib\\site-packages (0.21.0)\n",
      "Requirement already satisfied: numpy>=1.18.0 in c:\\users\\garima\\anaconda3\\lib\\site-packages (from gym[accept-rom-license,atari]) (1.18.5)\n",
      "Requirement already satisfied: cloudpickle>=1.2.0 in c:\\users\\garima\\anaconda3\\lib\\site-packages (from gym[accept-rom-license,atari]) (1.6.0)\n",
      "Requirement already satisfied: ale-py~=0.7.1 in c:\\users\\garima\\anaconda3\\lib\\site-packages (from gym[accept-rom-license,atari]) (0.7.2)\n",
      "Requirement already satisfied: autorom[accept-rom-license]~=0.4.2 in c:\\users\\garima\\anaconda3\\lib\\site-packages (from gym[accept-rom-license,atari]) (0.4.2)\n",
      "Requirement already satisfied: importlib-resources in c:\\users\\garima\\anaconda3\\lib\\site-packages (from ale-py~=0.7.1->gym[accept-rom-license,atari]) (5.2.3)\n",
      "Requirement already satisfied: requests in c:\\users\\garima\\anaconda3\\lib\\site-packages (from autorom[accept-rom-license]~=0.4.2->gym[accept-rom-license,atari]) (2.25.1)\n",
      "Requirement already satisfied: tqdm in c:\\users\\garima\\anaconda3\\lib\\site-packages (from autorom[accept-rom-license]~=0.4.2->gym[accept-rom-license,atari]) (4.59.0)\n",
      "Requirement already satisfied: click in c:\\users\\garima\\anaconda3\\lib\\site-packages (from autorom[accept-rom-license]~=0.4.2->gym[accept-rom-license,atari]) (7.1.2)\n",
      "Requirement already satisfied: AutoROM.accept-rom-license in c:\\users\\garima\\anaconda3\\lib\\site-packages (from autorom[accept-rom-license]~=0.4.2->gym[accept-rom-license,atari]) (0.4.2)\n",
      "Requirement already satisfied: zipp>=3.1.0 in c:\\users\\garima\\anaconda3\\lib\\site-packages (from importlib-resources->ale-py~=0.7.1->gym[accept-rom-license,atari]) (3.4.1)\n",
      "Requirement already satisfied: urllib3<1.27,>=1.21.1 in c:\\users\\garima\\anaconda3\\lib\\site-packages (from requests->autorom[accept-rom-license]~=0.4.2->gym[accept-rom-license,atari]) (1.26.4)\n",
      "Requirement already satisfied: chardet<5,>=3.0.2 in c:\\users\\garima\\anaconda3\\lib\\site-packages (from requests->autorom[accept-rom-license]~=0.4.2->gym[accept-rom-license,atari]) (4.0.0)\n",
      "Requirement already satisfied: certifi>=2017.4.17 in c:\\users\\garima\\anaconda3\\lib\\site-packages (from requests->autorom[accept-rom-license]~=0.4.2->gym[accept-rom-license,atari]) (2020.12.5)\n",
      "Requirement already satisfied: idna<3,>=2.5 in c:\\users\\garima\\anaconda3\\lib\\site-packages (from requests->autorom[accept-rom-license]~=0.4.2->gym[accept-rom-license,atari]) (2.10)\n",
      "Note: you may need to restart the kernel to use updated packages.\n"
     ]
    }
   ],
   "source": [
    "%pip install -U gym>=0.21.0\n",
    "%pip install -U gym[atari,accept-rom-license]"
   ]
  },
  {
   "cell_type": "code",
   "execution_count": 4,
   "id": "6946a2e6",
   "metadata": {},
   "outputs": [],
   "source": [
    "env = gym.make('SpaceInvaders-v0')\n",
    "height, width, channels = env.observation_space.shape\n",
    "actions = env.action_space.n"
   ]
  },
  {
   "cell_type": "code",
   "execution_count": 5,
   "id": "9d4a93d5",
   "metadata": {},
   "outputs": [
    {
     "data": {
      "text/plain": [
       "['NOOP', 'FIRE', 'RIGHT', 'LEFT', 'RIGHTFIRE', 'LEFTFIRE']"
      ]
     },
     "execution_count": 5,
     "metadata": {},
     "output_type": "execute_result"
    }
   ],
   "source": [
    "env.unwrapped.get_action_meanings()"
   ]
  },
  {
   "cell_type": "code",
   "execution_count": 19,
   "id": "87e4ae0f",
   "metadata": {},
   "outputs": [
    {
     "name": "stdout",
     "output_type": "stream",
     "text": [
      "Collecting pyglet\n",
      "  Downloading pyglet-1.5.21-py3-none-any.whl (1.1 MB)\n",
      "Installing collected packages: pyglet\n",
      "Successfully installed pyglet-1.5.21\n"
     ]
    }
   ],
   "source": [
    "!pip install pyglet"
   ]
  },
  {
   "cell_type": "code",
   "execution_count": 5,
   "id": "9d4c160f",
   "metadata": {},
   "outputs": [
    {
     "name": "stderr",
     "output_type": "stream",
     "text": [
      "C:\\Users\\Garima\\anaconda3\\lib\\site-packages\\gym\\envs\\atari\\environment.py:255: UserWarning: \u001b[33mWARN: We strongly suggest supplying `render_mode` when constructing your environment, e.g., gym.make(ID, render_mode='human'). Using `render_mode` provides access to proper scaling, audio support, and proper framerates.\u001b[0m\n",
      "  logger.warn(\n"
     ]
    },
    {
     "name": "stdout",
     "output_type": "stream",
     "text": [
      "Episode:1 Score:80.0\n",
      "Episode:2 Score:120.0\n",
      "Episode:3 Score:80.0\n",
      "Episode:4 Score:75.0\n",
      "Episode:5 Score:485.0\n"
     ]
    }
   ],
   "source": [
    "#playing 5 different games\n",
    "episodes = 5 \n",
    "for episode in range(1, episodes+1):\n",
    "    state = env.reset()\n",
    "    done = False\n",
    "    score = 0;\n",
    "    \n",
    "    while not done:\n",
    "        env.render()\n",
    "        action = random.choice([0, 1, 2, 3, 4, 5])\n",
    "        n_state, reward, done, info = env.step(action)\n",
    "        score += reward\n",
    "        \n",
    "    print('Episode:{} Score:{}'.format(episode, score))\n",
    "env.close()"
   ]
  },
  {
   "cell_type": "markdown",
   "id": "ef834f06",
   "metadata": {},
   "source": [
    "# Creating a Deep Learning Model w Keras"
   ]
  },
  {
   "cell_type": "code",
   "execution_count": 6,
   "id": "b4a92775",
   "metadata": {},
   "outputs": [],
   "source": [
    "import numpy as np\n",
    "from tensorflow.keras.models import Sequential\n",
    "from tensorflow.keras.layers import Dense, Flatten, Convolution2D\n",
    "from tensorflow.keras.optimizers import Adam"
   ]
  },
  {
   "cell_type": "code",
   "execution_count": 7,
   "id": "fe4cf590",
   "metadata": {},
   "outputs": [],
   "source": [
    "def build_model(height, width, channels, actions):\n",
    "    model = Sequential()\n",
    "    #stacking layers, starting w Convolution layers because it's an image-based model\n",
    "    #32 filters(training the filter to detect different things in the images), 8by8 size of filters, moving 4 steps to right and 4 steps down\n",
    "    model.add(Convolution2D(32, (8,8), strides=(4, 4), activation='relu', input_shape=(3, height, width, channels)))\n",
    "    model.add(Convolution2D(64, (4,4), strides=(2, 2), activation='relu'))\n",
    "    #no stride means 1by1 means pixel by pixel\n",
    "    model.add(Convolution2D(64, (3,3), activation='relu'))\n",
    "    model.add(Flatten())\n",
    "    #making dense (fully-connected) layers\n",
    "    model.add(Dense(512, activation='relu'))\n",
    "    model.add(Dense(256, activation='relu'))\n",
    "    model.add(Dense(actions, activation='linear'))\n",
    "    return model"
   ]
  },
  {
   "cell_type": "code",
   "execution_count": 16,
   "id": "e723533b",
   "metadata": {},
   "outputs": [],
   "source": [
    "del model"
   ]
  },
  {
   "cell_type": "code",
   "execution_count": 17,
   "id": "be1cc8ff",
   "metadata": {},
   "outputs": [],
   "source": [
    "model = build_model(height, width, channels, actions)"
   ]
  },
  {
   "cell_type": "code",
   "execution_count": 18,
   "id": "ced59e17",
   "metadata": {},
   "outputs": [
    {
     "name": "stdout",
     "output_type": "stream",
     "text": [
      "Model: \"sequential_1\"\n",
      "_________________________________________________________________\n",
      "Layer (type)                 Output Shape              Param #   \n",
      "=================================================================\n",
      "conv2d_3 (Conv2D)            (None, 3, 51, 39, 32)     6176      \n",
      "_________________________________________________________________\n",
      "conv2d_4 (Conv2D)            (None, 3, 24, 18, 64)     32832     \n",
      "_________________________________________________________________\n",
      "conv2d_5 (Conv2D)            (None, 3, 22, 16, 64)     36928     \n",
      "_________________________________________________________________\n",
      "flatten_1 (Flatten)          (None, 67584)             0         \n",
      "_________________________________________________________________\n",
      "dense_5 (Dense)              (None, 512)               34603520  \n",
      "_________________________________________________________________\n",
      "dense_6 (Dense)              (None, 256)               131328    \n",
      "_________________________________________________________________\n",
      "dense_7 (Dense)              (None, 6)                 1542      \n",
      "=================================================================\n",
      "Total params: 34,812,326\n",
      "Trainable params: 34,812,326\n",
      "Non-trainable params: 0\n",
      "_________________________________________________________________\n"
     ]
    }
   ],
   "source": [
    "model.summary()"
   ]
  },
  {
   "cell_type": "markdown",
   "id": "1cf5566e",
   "metadata": {},
   "source": [
    "# Build Agent with Keras-RL"
   ]
  },
  {
   "cell_type": "code",
   "execution_count": 10,
   "id": "d1ca4c40",
   "metadata": {},
   "outputs": [],
   "source": [
    "from rl.agents import DQNAgent\n",
    "from rl.memory import SequentialMemory\n",
    "from rl.policy import LinearAnnealedPolicy, EpsGreedyQPolicy"
   ]
  },
  {
   "cell_type": "code",
   "execution_count": 19,
   "id": "ce1eb5db",
   "metadata": {},
   "outputs": [],
   "source": [
    "def build_agent(model, actions):\n",
    "    policy = LinearAnnealedPolicy(EpsGreedyQPolicy(), attr='eps', value_max=1., value_min=.1, value_test=.2, nb_steps=10000)\n",
    "    memory = SequentialMemory(limit=1000, window_length=3)\n",
    "    #dueling networks help the model learn when to take action and when not to bother\n",
    "    dqn = DQNAgent(model=model, memory=memory, policy=policy, \n",
    "                  enable_dueling_network=True, dueling_type='avg',\n",
    "                  nb_actions=actions, nb_steps_warmup=1000\n",
    "                  )\n",
    "    return dqn"
   ]
  },
  {
   "cell_type": "code",
   "execution_count": 20,
   "id": "00534bd2",
   "metadata": {},
   "outputs": [],
   "source": [
    "dqn = build_agent(model,  actions)\n",
    "dqn.compile(Adam(lr=1e-4)) #sets the optimizer"
   ]
  },
  {
   "cell_type": "code",
   "execution_count": 18,
   "id": "91eccd74",
   "metadata": {},
   "outputs": [
    {
     "name": "stdout",
     "output_type": "stream",
     "text": [
      "Training for 10000 steps ...\n",
      "  764/10000: episode: 1, duration: 19.228s, episode steps: 764, steps per second:  40, episode reward: 210.000, mean reward:  0.275 [ 0.000, 30.000], mean action: 2.438 [0.000, 5.000],  loss: --, mean_q: --, mean_eps: --\n",
      " 1298/10000: episode: 2, duration: 390.057s, episode steps: 534, steps per second:   1, episode reward: 45.000, mean reward:  0.084 [ 0.000, 15.000], mean action: 2.356 [0.000, 5.000],  loss: 1.167755, mean_q: 5.738909, mean_eps: 0.896590\n",
      " 1978/10000: episode: 3, duration: 855.535s, episode steps: 680, steps per second:   1, episode reward: 110.000, mean reward:  0.162 [ 0.000, 30.000], mean action: 2.463 [0.000, 5.000],  loss: 0.180742, mean_q: 5.366101, mean_eps: 0.852625\n",
      " 2523/10000: episode: 4, duration: 653.894s, episode steps: 545, steps per second:   1, episode reward: 50.000, mean reward:  0.092 [ 0.000, 20.000], mean action: 2.505 [0.000, 5.000],  loss: 0.083864, mean_q: 5.272575, mean_eps: 0.797500\n",
      " 3258/10000: episode: 5, duration: 873.254s, episode steps: 735, steps per second:   1, episode reward: 125.000, mean reward:  0.170 [ 0.000, 25.000], mean action: 2.588 [0.000, 5.000],  loss: 0.146966, mean_q: 5.258303, mean_eps: 0.739900\n",
      " 4000/10000: episode: 6, duration: 911.514s, episode steps: 742, steps per second:   1, episode reward: 250.000, mean reward:  0.337 [ 0.000, 30.000], mean action: 2.558 [0.000, 5.000],  loss: 0.323297, mean_q: 5.648927, mean_eps: 0.673435\n",
      " 4607/10000: episode: 7, duration: 1029.778s, episode steps: 607, steps per second:   1, episode reward: 135.000, mean reward:  0.222 [ 0.000, 30.000], mean action: 2.540 [0.000, 5.000],  loss: 0.309203, mean_q: 5.842955, mean_eps: 0.612730\n",
      " 5562/10000: episode: 8, duration: 1498.179s, episode steps: 955, steps per second:   1, episode reward: 515.000, mean reward:  0.539 [ 0.000, 200.000], mean action: 2.503 [0.000, 5.000],  loss: 2.357285, mean_q: 6.045041, mean_eps: 0.542440\n",
      " 6164/10000: episode: 9, duration: 1110.514s, episode steps: 602, steps per second:   1, episode reward: 90.000, mean reward:  0.150 [ 0.000, 25.000], mean action: 2.299 [0.000, 5.000],  loss: 0.704407, mean_q: 6.137778, mean_eps: 0.472375\n",
      " 7250/10000: episode: 10, duration: 1676.642s, episode steps: 1086, steps per second:   1, episode reward: 345.000, mean reward:  0.318 [ 0.000, 30.000], mean action: 2.246 [0.000, 5.000],  loss: 0.291498, mean_q: 5.422590, mean_eps: 0.396415\n",
      " 8019/10000: episode: 11, duration: 1021.174s, episode steps: 769, steps per second:   1, episode reward: 135.000, mean reward:  0.176 [ 0.000, 20.000], mean action: 2.482 [0.000, 5.000],  loss: 0.224349, mean_q: 5.691963, mean_eps: 0.312940\n",
      " 8405/10000: episode: 12, duration: 490.818s, episode steps: 386, steps per second:   1, episode reward: 75.000, mean reward:  0.194 [ 0.000, 25.000], mean action: 2.969 [0.000, 5.000],  loss: 0.194642, mean_q: 5.209683, mean_eps: 0.260965\n",
      " 9044/10000: episode: 13, duration: 777.806s, episode steps: 639, steps per second:   1, episode reward: 105.000, mean reward:  0.164 [ 0.000, 20.000], mean action: 2.374 [0.000, 5.000],  loss: 0.068731, mean_q: 5.151859, mean_eps: 0.214840\n",
      "done, took 12705.145 seconds\n"
     ]
    },
    {
     "data": {
      "text/plain": [
       "<tensorflow.python.keras.callbacks.History at 0x17600579ee0>"
      ]
     },
     "execution_count": 18,
     "metadata": {},
     "output_type": "execute_result"
    }
   ],
   "source": [
    "dqn.fit(env, nb_steps=10000, visualize=False, verbose=2)"
   ]
  },
  {
   "cell_type": "code",
   "execution_count": 22,
   "id": "e3952b76",
   "metadata": {},
   "outputs": [
    {
     "name": "stdout",
     "output_type": "stream",
     "text": [
      "Testing for 10 episodes ...\n",
      "WARNING:tensorflow:From C:\\Users\\Garima\\anaconda3\\lib\\site-packages\\tensorflow\\python\\keras\\engine\\training_v1.py:2070: Model.state_updates (from tensorflow.python.keras.engine.training) is deprecated and will be removed in a future version.\n",
      "Instructions for updating:\n",
      "This property should not be used in TensorFlow 2.0, as updates are applied automatically.\n"
     ]
    },
    {
     "name": "stderr",
     "output_type": "stream",
     "text": [
      "C:\\Users\\Garima\\anaconda3\\lib\\site-packages\\gym\\envs\\atari\\environment.py:255: UserWarning: \u001b[33mWARN: We strongly suggest supplying `render_mode` when constructing your environment, e.g., gym.make(ID, render_mode='human'). Using `render_mode` provides access to proper scaling, audio support, and proper framerates.\u001b[0m\n",
      "  logger.warn(\n"
     ]
    },
    {
     "name": "stdout",
     "output_type": "stream",
     "text": [
      "Episode 1: reward: 110.000, steps: 453\n",
      "Episode 2: reward: 30.000, steps: 388\n",
      "Episode 3: reward: 325.000, steps: 1034\n",
      "Episode 4: reward: 210.000, steps: 686\n",
      "Episode 5: reward: 240.000, steps: 1228\n",
      "Episode 6: reward: 260.000, steps: 1235\n",
      "Episode 7: reward: 230.000, steps: 884\n",
      "Episode 8: reward: 245.000, steps: 904\n",
      "Episode 9: reward: 250.000, steps: 1129\n",
      "Episode 10: reward: 130.000, steps: 640\n",
      "203.0\n"
     ]
    }
   ],
   "source": [
    "scores = dqn.test(env, nb_episodes=10, visualize=True)\n",
    "print(np.mean(scores.history['episode_reward']))"
   ]
  },
  {
   "cell_type": "markdown",
   "id": "3832fd1a",
   "metadata": {},
   "source": [
    "# Reloading Agent from Memory"
   ]
  },
  {
   "cell_type": "code",
   "execution_count": 22,
   "id": "530777d9",
   "metadata": {},
   "outputs": [],
   "source": [
    "dqn.save_weights('SavedWeights/10k-Fast/dqn_weights.h5f')"
   ]
  },
  {
   "cell_type": "code",
   "execution_count": 1,
   "id": "d3970d4a",
   "metadata": {},
   "outputs": [
    {
     "ename": "NameError",
     "evalue": "name 'model' is not defined",
     "output_type": "error",
     "traceback": [
      "\u001b[1;31m---------------------------------------------------------------------------\u001b[0m",
      "\u001b[1;31mNameError\u001b[0m                                 Traceback (most recent call last)",
      "\u001b[1;32m<ipython-input-1-b4e4d0b89612>\u001b[0m in \u001b[0;36m<module>\u001b[1;34m\u001b[0m\n\u001b[1;32m----> 1\u001b[1;33m \u001b[1;32mdel\u001b[0m \u001b[0mmodel\u001b[0m\u001b[1;33m,\u001b[0m \u001b[0mdqn\u001b[0m\u001b[1;33m\u001b[0m\u001b[1;33m\u001b[0m\u001b[0m\n\u001b[0m",
      "\u001b[1;31mNameError\u001b[0m: name 'model' is not defined"
     ]
    }
   ],
   "source": [
    "del model, dqn"
   ]
  },
  {
   "cell_type": "code",
   "execution_count": 21,
   "id": "b27ef751",
   "metadata": {},
   "outputs": [],
   "source": [
    "dqn.load_weights('SavedWeights/1m/dqn_weights.h5f')"
   ]
  }
 ],
 "metadata": {
  "kernelspec": {
   "display_name": "Python 3",
   "language": "python",
   "name": "python3"
  },
  "language_info": {
   "codemirror_mode": {
    "name": "ipython",
    "version": 3
   },
   "file_extension": ".py",
   "mimetype": "text/x-python",
   "name": "python",
   "nbconvert_exporter": "python",
   "pygments_lexer": "ipython3",
   "version": "3.8.8"
  }
 },
 "nbformat": 4,
 "nbformat_minor": 5
}
